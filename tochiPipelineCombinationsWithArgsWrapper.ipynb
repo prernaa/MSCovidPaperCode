{
 "cells": [
  {
   "cell_type": "code",
   "execution_count": 1,
   "id": "29d755ce",
   "metadata": {},
   "outputs": [
    {
     "name": "stderr",
     "output_type": "stream",
     "text": [
      "/Users/prerna/Library/Python/2.7/lib/python/site-packages/sklearn/ensemble/weight_boosting.py:29: DeprecationWarning: numpy.core.umath_tests is an internal NumPy module and should not be imported. It will be removed in a future NumPy release.\n",
      "  from numpy.core.umath_tests import inner1d\n"
     ]
    }
   ],
   "source": [
    "from subprocess import Popen\n",
    "from tochiPipelineCombinationsWithArgs import combinationMain\n",
    "\n",
    "\n",
    "serverDataPath = \".\" # set to \".\" for current directory (this should contain models and sensor combinations\n",
    "\n"
   ]
  },
  {
   "cell_type": "code",
   "execution_count": 9,
   "id": "8580bd8b",
   "metadata": {},
   "outputs": [
    {
     "name": "stdout",
     "output_type": "stream",
     "text": [
      "python ./tochiPipelineCombinationsWithArgs.py . msrsr_m_lbl pre_lock_change_feats_to_lock_mh 60 True True True AutomatePipelineToCombine END True\n",
      "python ./tochiPipelineCombinationsWithArgs.py . msrsr_m_lbl pre_lock_change_feats_to_lock_mh 80 True True True AutomatePipelineToCombine END True\n",
      "python ./tochiPipelineCombinationsWithArgs.py . msrsr_m_lbl pre_lock_change_feats_to_lock_mh 100 True True True AutomatePipelineToCombine END True\n",
      "python ./tochiPipelineCombinationsWithArgs.py . msrsr_m_lbl pre_lock_change_feats_to_lock_mh 120 True True True AutomatePipelineToCombine END True\n",
      "python ./tochiPipelineCombinationsWithArgs.py . msrsr_m_lbl pre_lock_change_feats_to_lock_mh 140 True True True AutomatePipelineToCombine END True\n",
      "python ./tochiPipelineCombinationsWithArgs.py . msrsr_m_lbl pre_lock_change_feats_to_lock_mh 160 True True True AutomatePipelineToCombine END True\n",
      "python ./tochiPipelineCombinationsWithArgs.py . msrsr_m_lbl pre_lock_change_feats_to_lock_mh 180 True True True AutomatePipelineToCombine END True\n",
      "python ./tochiPipelineCombinationsWithArgs.py . msrsr_m_lbl pre_lock_change_feats_to_lock_mh 200 True True True AutomatePipelineToCombine END True\n",
      "python ./tochiPipelineCombinationsWithArgs.py . msrsr_m_lbl pre_lock_change_feats_to_lock_mh 220 True True True AutomatePipelineToCombine END True\n"
     ]
    }
   ],
   "source": [
    "## settings\n",
    "scenario = \"pre_lock_change_feats_to_lock_mh\"\n",
    "outcome_in = \"msrsr_m_lbl\" #post_bdi_2, change_bdi_2, change_bdi_2_levelsC_layer2\n",
    "scaling_in = True\n",
    "toOutputPreds = True\n",
    "automaticPipeline = True\n",
    "combineFolder = \"AutomatePipelineToCombine\"\n",
    "combineFolderFileSuffix = \"END\"\n",
    "tenFolds = True ## 10-FOLDS IS ONLY SUPPORTED BY THE AUTOMATED PIPELINE FOR NOW!\n",
    "\n",
    "## Wrapper code\n",
    "\n",
    "n_estimators_gbc_in_list = [60, 80, 100, 120, 140, 160, 180, 200, 220]\n",
    "# n_estimators_gbc_in_list = [60]\n",
    "# n_estimators_gbc_in_list = [80, 100, 120, 140, 160, 180, 200, 220]\n",
    "\n",
    "for n_estimators_gbc_in in n_estimators_gbc_in_list:\n",
    "#     cmd = ['python', '{0}/pipelineCombinationsWithArgs.py'.format(serverDataPath), outcome_in, prestatus_in, str(n_estimators_gbc_in), str(bc), str(bv), str(scaling_in), str(toOutputPreds), str(automaticPipeline), combineFolder, combineFolderFileSuffix, str(timelimited), ','.join(str(v) for v in excwks), str(tenFolds)]\n",
    "    cmd = ['python', '{0}/tochiPipelineCombinationsWithArgs.py'.format(serverDataPath), serverDataPath, outcome_in, scenario, str(n_estimators_gbc_in), str(scaling_in), str(toOutputPreds), str(automaticPipeline), combineFolder, combineFolderFileSuffix, str(tenFolds)]\n",
    "    print (\"{0}\".format(\" \".join(cmd)))\n",
    "#     curr_process = Popen(cmd)\n",
    "    "
   ]
  },
  {
   "cell_type": "code",
   "execution_count": null,
   "id": "b959adb8",
   "metadata": {},
   "outputs": [],
   "source": []
  }
 ],
 "metadata": {
  "kernelspec": {
   "display_name": "Python 2",
   "language": "python",
   "name": "python2"
  },
  "language_info": {
   "codemirror_mode": {
    "name": "ipython",
    "version": 2
   },
   "file_extension": ".py",
   "mimetype": "text/x-python",
   "name": "python",
   "nbconvert_exporter": "python",
   "pygments_lexer": "ipython2",
   "version": "2.7.16"
  }
 },
 "nbformat": 4,
 "nbformat_minor": 5
}
